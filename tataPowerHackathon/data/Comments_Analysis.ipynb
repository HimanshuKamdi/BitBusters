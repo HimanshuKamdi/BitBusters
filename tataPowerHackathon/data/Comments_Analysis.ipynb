{
  "nbformat": 4,
  "nbformat_minor": 0,
  "metadata": {
    "colab": {
      "provenance": []
    },
    "kernelspec": {
      "name": "python3",
      "display_name": "Python 3"
    },
    "language_info": {
      "name": "python"
    }
  },
  "cells": [
    {
      "cell_type": "code",
      "source": [
        "import json"
      ],
      "metadata": {
        "id": "lo2C4vWoz98e"
      },
      "execution_count": 1,
      "outputs": []
    },
    {
      "cell_type": "code",
      "execution_count": 2,
      "metadata": {
        "id": "9qZrhOwZzb8M"
      },
      "outputs": [],
      "source": [
        "with open(\"0_comments.json\") as f:\n",
        "  data=json.load(f)"
      ]
    },
    {
      "cell_type": "code",
      "source": [
        "import nltk\n",
        "from nltk.sentiment.vader import SentimentIntensityAnalyzer\n",
        "nltk.download('vader_lexicon')\n",
        "sid = SentimentIntensityAnalyzer()\n"
      ],
      "metadata": {
        "colab": {
          "base_uri": "https://localhost:8080/"
        },
        "id": "a6QUDKa348wx",
        "outputId": "bc711761-1d36-4c0c-9f4a-50307bb549a9"
      },
      "execution_count": 27,
      "outputs": [
        {
          "output_type": "stream",
          "name": "stderr",
          "text": [
            "[nltk_data] Downloading package vader_lexicon to /root/nltk_data...\n"
          ]
        }
      ]
    },
    {
      "cell_type": "code",
      "source": [
        "!pip install emoji"
      ],
      "metadata": {
        "colab": {
          "base_uri": "https://localhost:8080/"
        },
        "id": "djIcFsq53KyO",
        "outputId": "b9c91674-6e82-42f8-ff0d-d78d71ce4c07"
      },
      "execution_count": 12,
      "outputs": [
        {
          "output_type": "stream",
          "name": "stdout",
          "text": [
            "Collecting emoji\n",
            "  Downloading emoji-2.8.0-py2.py3-none-any.whl (358 kB)\n",
            "\u001b[?25l     \u001b[90m━━━━━━━━━━━━━━━━━━━━━━━━━━━━━━━━━━━━━━━━\u001b[0m \u001b[32m0.0/358.9 kB\u001b[0m \u001b[31m?\u001b[0m eta \u001b[36m-:--:--\u001b[0m\r\u001b[2K     \u001b[91m━━━━━━━━━━━━━━━━━━━━━━\u001b[0m\u001b[91m╸\u001b[0m\u001b[90m━━━━━━━━━━━━━━━━━\u001b[0m \u001b[32m204.8/358.9 kB\u001b[0m \u001b[31m6.0 MB/s\u001b[0m eta \u001b[36m0:00:01\u001b[0m\r\u001b[2K     \u001b[90m━━━━━━━━━━━━━━━━━━━━━━━━━━━━━━━━━━━━━━━━\u001b[0m \u001b[32m358.9/358.9 kB\u001b[0m \u001b[31m6.3 MB/s\u001b[0m eta \u001b[36m0:00:00\u001b[0m\n",
            "\u001b[?25hInstalling collected packages: emoji\n",
            "Successfully installed emoji-2.8.0\n"
          ]
        }
      ]
    },
    {
      "cell_type": "code",
      "source": [
        "import re\n",
        "import unicodedata\n",
        "import emoji\n",
        "import html\n",
        "\n",
        "def preprocess_text(text):\n",
        "    text = html.unescape(text)\n",
        "    # Remove emojis\n",
        "    text = emoji.demojize(text)\n",
        "\n",
        "    # Remove non-UTF-8 encoded characters\n",
        "    text = text.encode('utf-8', 'ignore').decode('utf-8')\n",
        "\n",
        "    # Remove HTML tags and escape characters\n",
        "    text = re.sub('<[^<]+?>', '', text)\n",
        "\n",
        "    # Remove non-ASCII characters\n",
        "    text = text.encode('ascii', 'ignore').decode()\n",
        "\n",
        "    return text\n"
      ],
      "metadata": {
        "id": "l6bLA-595U1P"
      },
      "execution_count": 28,
      "outputs": []
    },
    {
      "cell_type": "code",
      "source": [
        "vid_to_sentiment={}\n",
        "for key in data:\n",
        "  obj=data[key]\n",
        "  comments=set()\n",
        "  if \"items\" in obj.keys():\n",
        "    for item in obj[\"items\"]:\n",
        "      comments.add(preprocess_text(item['snippet']['topLevelComment']['snippet']['textDisplay']))\n",
        "\n",
        "  positive_cmts=0\n",
        "  neg_cmts=0\n",
        "  neut_cmts=0\n",
        "  for comment in comments:\n",
        "    scores = sid.polarity_scores(comment)\n",
        "    if scores['compound'] >= 0.05:\n",
        "        positive_cmts+=1\n",
        "    elif scores['compound'] > -0.05 and scores['compound'] < 0.05:\n",
        "        neut_cmts+=1\n",
        "    else:\n",
        "        neg_cmts+=1\n",
        "\n",
        "  vid_to_sentiment[key]={\"pos\":positive_cmts,\"neg\":neg_cmts,\"neut\":neut_cmts}\n",
        "  print(f\"Done for {key}\")\n",
        "\n",
        "\n",
        "\n",
        "\n",
        "\n",
        "\n",
        "\n",
        "\n",
        "\n"
      ],
      "metadata": {
        "colab": {
          "base_uri": "https://localhost:8080/"
        },
        "id": "7f7y1lWh0Hde",
        "outputId": "d4c6af8d-04e2-430d-f3c6-81a5bb5b71e3"
      },
      "execution_count": 29,
      "outputs": [
        {
          "output_type": "stream",
          "name": "stdout",
          "text": [
            "Done for 1kUE0BZtTRc\n",
            "Done for bp4i6txbEfI\n",
            "Done for RnvCbquYeIM\n",
            "Done for VfowJHJz6-s\n",
            "Done for T4xKThjcKaE\n",
            "Done for fyqDC_AKVgE\n",
            "Done for Giek094C_l4\n",
            "Done for 4k5gyYAAEEU\n",
            "Done for s3ScJ_FwaZk\n",
            "Done for 3gSzzuY1Yw0\n",
            "Done for Ms--0d7Oh0s\n",
            "Done for 44Wp3WE1AHs\n",
            "Done for utgvD2E5Q0Q\n",
            "Done for N-yALPEpV4w\n",
            "Done for EAU5D8hqIUI\n",
            "Done for w16-Uems2Qo\n",
            "Done for bC-BYhuFUtY\n",
            "Done for DW0jTe80kmM\n",
            "Done for z-k5uS7ALXk\n",
            "Done for V8Vtb0bn30M\n",
            "Done for h5cm7HOAqZY\n",
            "Done for jJpCB5Puubs\n",
            "Done for nVl17JLn_u0\n",
            "Done for 4KJE3POgWSc\n",
            "Done for EWV4e453y8Y\n",
            "Done for MpEJnnpye-k\n",
            "Done for za6dE5JrNB0\n",
            "Done for YYLzss58CLs\n",
            "Done for b1LQSezKxnA\n",
            "Done for tOfIFTTcYpY\n",
            "Done for axCR3uIn3Vs\n",
            "Done for PLBK1ux5b7U\n",
            "Done for cCE1i2tJQQY\n",
            "Done for I9arI2e5bkw\n",
            "Done for 7OpM_zKGE4o\n",
            "Done for buF8ASmwXt4\n",
            "Done for lqA9SenLPwk\n",
            "Done for ORtHnYBuoQw\n",
            "Done for aRtfDEz-UYE\n",
            "Done for KHlaPvXFxv4\n",
            "Done for JlhfC7Vg_Xo\n",
            "Done for BiNIqPJ5As8\n",
            "Done for nwW6lGn-Tk4\n",
            "Done for 8LfGmqiW0zo\n",
            "Done for xKxrkht7CpY\n",
            "Done for sUvaYycoWqI\n",
            "Done for jKTn0c_i87k\n",
            "Done for QCut1ZT_E2A\n",
            "Done for FxdbD-N7pHE\n",
            "Done for pqzvUur7QRw\n"
          ]
        }
      ]
    },
    {
      "cell_type": "code",
      "source": [
        "vid_to_sentiment"
      ],
      "metadata": {
        "colab": {
          "base_uri": "https://localhost:8080/"
        },
        "id": "dT-3LBRB74r3",
        "outputId": "7f56e845-5c3a-4638-b65d-859909c9f5ab"
      },
      "execution_count": 30,
      "outputs": [
        {
          "output_type": "execute_result",
          "data": {
            "text/plain": [
              "{'1kUE0BZtTRc': {'pos': 11, 'neg': 5, 'neut': 4},\n",
              " 'bp4i6txbEfI': {'pos': 0, 'neg': 0, 'neut': 0},\n",
              " 'RnvCbquYeIM': {'pos': 13, 'neg': 6, 'neut': 2},\n",
              " 'VfowJHJz6-s': {'pos': 3, 'neg': 3, 'neut': 4},\n",
              " 'T4xKThjcKaE': {'pos': 6, 'neg': 2, 'neut': 12},\n",
              " 'fyqDC_AKVgE': {'pos': 13, 'neg': 1, 'neut': 6},\n",
              " 'Giek094C_l4': {'pos': 0, 'neg': 0, 'neut': 0},\n",
              " '4k5gyYAAEEU': {'pos': 12, 'neg': 5, 'neut': 3},\n",
              " 's3ScJ_FwaZk': {'pos': 13, 'neg': 5, 'neut': 3},\n",
              " '3gSzzuY1Yw0': {'pos': 9, 'neg': 8, 'neut': 3},\n",
              " 'Ms--0d7Oh0s': {'pos': 11, 'neg': 5, 'neut': 4},\n",
              " '44Wp3WE1AHs': {'pos': 7, 'neg': 3, 'neut': 10},\n",
              " 'utgvD2E5Q0Q': {'pos': 10, 'neg': 6, 'neut': 4},\n",
              " 'N-yALPEpV4w': {'pos': 12, 'neg': 7, 'neut': 1},\n",
              " 'EAU5D8hqIUI': {'pos': 18, 'neg': 2, 'neut': 0},\n",
              " 'w16-Uems2Qo': {'pos': 0, 'neg': 0, 'neut': 0},\n",
              " 'bC-BYhuFUtY': {'pos': 5, 'neg': 9, 'neut': 6},\n",
              " 'DW0jTe80kmM': {'pos': 11, 'neg': 6, 'neut': 4},\n",
              " 'z-k5uS7ALXk': {'pos': 11, 'neg': 4, 'neut': 6},\n",
              " 'V8Vtb0bn30M': {'pos': 12, 'neg': 3, 'neut': 6},\n",
              " 'h5cm7HOAqZY': {'pos': 7, 'neg': 10, 'neut': 4},\n",
              " 'jJpCB5Puubs': {'pos': 11, 'neg': 1, 'neut': 8},\n",
              " 'nVl17JLn_u0': {'pos': 9, 'neg': 3, 'neut': 8},\n",
              " '4KJE3POgWSc': {'pos': 5, 'neg': 2, 'neut': 13},\n",
              " 'EWV4e453y8Y': {'pos': 7, 'neg': 10, 'neut': 3},\n",
              " 'MpEJnnpye-k': {'pos': 0, 'neg': 0, 'neut': 0},\n",
              " 'za6dE5JrNB0': {'pos': 9, 'neg': 8, 'neut': 3},\n",
              " 'YYLzss58CLs': {'pos': 12, 'neg': 3, 'neut': 5},\n",
              " 'b1LQSezKxnA': {'pos': 7, 'neg': 7, 'neut': 6},\n",
              " 'tOfIFTTcYpY': {'pos': 9, 'neg': 6, 'neut': 5},\n",
              " 'axCR3uIn3Vs': {'pos': 6, 'neg': 0, 'neut': 4},\n",
              " 'PLBK1ux5b7U': {'pos': 7, 'neg': 0, 'neut': 13},\n",
              " 'cCE1i2tJQQY': {'pos': 8, 'neg': 4, 'neut': 8},\n",
              " 'I9arI2e5bkw': {'pos': 10, 'neg': 5, 'neut': 5},\n",
              " '7OpM_zKGE4o': {'pos': 9, 'neg': 7, 'neut': 5},\n",
              " 'buF8ASmwXt4': {'pos': 6, 'neg': 3, 'neut': 11},\n",
              " 'lqA9SenLPwk': {'pos': 0, 'neg': 0, 'neut': 0},\n",
              " 'ORtHnYBuoQw': {'pos': 9, 'neg': 10, 'neut': 1},\n",
              " 'aRtfDEz-UYE': {'pos': 9, 'neg': 2, 'neut': 7},\n",
              " 'KHlaPvXFxv4': {'pos': 6, 'neg': 4, 'neut': 5},\n",
              " 'JlhfC7Vg_Xo': {'pos': 9, 'neg': 6, 'neut': 5},\n",
              " 'BiNIqPJ5As8': {'pos': 14, 'neg': 3, 'neut': 3},\n",
              " 'nwW6lGn-Tk4': {'pos': 8, 'neg': 4, 'neut': 8},\n",
              " '8LfGmqiW0zo': {'pos': 11, 'neg': 7, 'neut': 3},\n",
              " 'xKxrkht7CpY': {'pos': 0, 'neg': 0, 'neut': 20},\n",
              " 'sUvaYycoWqI': {'pos': 9, 'neg': 6, 'neut': 5},\n",
              " 'jKTn0c_i87k': {'pos': 7, 'neg': 11, 'neut': 2},\n",
              " 'QCut1ZT_E2A': {'pos': 7, 'neg': 8, 'neut': 5},\n",
              " 'FxdbD-N7pHE': {'pos': 16, 'neg': 3, 'neut': 2},\n",
              " 'pqzvUur7QRw': {'pos': 11, 'neg': 1, 'neut': 8}}"
            ]
          },
          "metadata": {},
          "execution_count": 30
        }
      ]
    },
    {
      "cell_type": "code",
      "source": [
        "for topic in range(10):\n",
        "  with open(f\"{topic}_comments.json\") as f:\n",
        "    data=json.load(f)\n",
        "  vid_to_sentiment={}\n",
        "  for key in data:\n",
        "    obj=data[key]\n",
        "    comments=set()\n",
        "    if \"items\" in obj.keys():\n",
        "      for item in obj[\"items\"]:\n",
        "        comments.add(preprocess_text(item['snippet']['topLevelComment']['snippet']['textDisplay']))\n",
        "\n",
        "    positive_cmts=0\n",
        "    neg_cmts=0\n",
        "    neut_cmts=0\n",
        "    for comment in comments:\n",
        "      scores = sid.polarity_scores(comment)\n",
        "      if scores['compound'] >= 0.05:\n",
        "          positive_cmts+=1\n",
        "      elif scores['compound'] > -0.05 and scores['compound'] < 0.05:\n",
        "          neut_cmts+=1\n",
        "      else:\n",
        "          neg_cmts+=1\n",
        "\n",
        "    vid_to_sentiment[key]={\"pos\":positive_cmts,\"neg\":neg_cmts,\"neut\":neut_cmts}\n",
        "\n",
        "  with open(f\"{topic}_video_sentanal.json\", \"w\") as file:\n",
        "    json.dump(vid_to_sentiment, file)\n",
        "    print(f\"Done for {topic}\")\n",
        "\n"
      ],
      "metadata": {
        "colab": {
          "base_uri": "https://localhost:8080/"
        },
        "id": "0PGPXApI3zNw",
        "outputId": "1d90617d-f2c8-4c5f-bfc5-9e5ff0543fec"
      },
      "execution_count": 32,
      "outputs": [
        {
          "output_type": "stream",
          "name": "stdout",
          "text": [
            "Done for 0\n",
            "Done for 1\n",
            "Done for 2\n",
            "Done for 3\n",
            "Done for 4\n",
            "Done for 5\n",
            "Done for 6\n",
            "Done for 7\n",
            "Done for 8\n",
            "Done for 9\n"
          ]
        }
      ]
    },
    {
      "cell_type": "code",
      "source": [],
      "metadata": {
        "id": "fdRub-Jp-Zbz"
      },
      "execution_count": null,
      "outputs": []
    }
  ]
}